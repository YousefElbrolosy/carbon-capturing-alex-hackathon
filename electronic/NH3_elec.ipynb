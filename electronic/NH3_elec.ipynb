{
 "cells": [
  {
   "cell_type": "markdown",
   "id": "533c3a67",
   "metadata": {},
   "source": [
    "# Carbon Capture"
   ]
  },
  {
   "cell_type": "markdown",
   "id": "a7235844",
   "metadata": {},
   "source": [
    "## Chemical Reaction ( Part 1 Carbamic Acid )\n",
    "\n",
    "$$NH_3 + CO_2 \\rightarrow NH_{2}COOH$$"
   ]
  },
  {
   "cell_type": "markdown",
   "id": "891a59cc",
   "metadata": {},
   "source": [
    "first of all we want to model the vibrational ground state enegies of the reactants using VQE"
   ]
  },
  {
   "cell_type": "code",
   "execution_count": null,
   "id": "e1ac83c8",
   "metadata": {},
   "outputs": [],
   "source": [
    "from qiskit_nature.units import DistanceUnit\n",
    "from qiskit_nature.second_q.drivers import PySCFDriver\n",
    "\n",
    "driver = PySCFDriver(\n",
    "    atom=\"N 0 0 0.111100; H 0 0.931600 -0.259200; H 0.806800 -0.465800 -0.259200; H -0.806800 -0.465800 -0.259200\",\n",
    "    basis=\"sto3g\",\n",
    "    charge=0,\n",
    "    spin=0,\n",
    "    unit=DistanceUnit.ANGSTROM,\n",
    ")\n",
    "\n",
    "es_problem = driver.run()"
   ]
  },
  {
   "cell_type": "code",
   "execution_count": 2,
   "id": "66b2d19e",
   "metadata": {},
   "outputs": [],
   "source": [
    "from qiskit_nature.second_q.transformers import ActiveSpaceTransformer\n",
    "\n",
    "transformer = ActiveSpaceTransformer(\n",
    "    num_electrons=4,\n",
    "    num_spatial_orbitals=4\n",
    ")\n",
    "es_problem = transformer.transform(es_problem)"
   ]
  },
  {
   "cell_type": "code",
   "execution_count": 3,
   "id": "c0c91c5d",
   "metadata": {},
   "outputs": [],
   "source": [
    "from qiskit_nature.second_q.mappers import JordanWignerMapper\n",
    "\n",
    "mapper = JordanWignerMapper()"
   ]
  },
  {
   "cell_type": "code",
   "execution_count": 4,
   "id": "bdd21da5",
   "metadata": {},
   "outputs": [],
   "source": [
    "from qiskit_algorithms import NumPyMinimumEigensolver\n",
    "\n",
    "numpy_solver = NumPyMinimumEigensolver()"
   ]
  },
  {
   "cell_type": "code",
   "execution_count": 5,
   "id": "93e3f899",
   "metadata": {},
   "outputs": [],
   "source": [
    "from qiskit_algorithms import VQE\n",
    "from qiskit.primitives import StatevectorEstimator\n",
    "from qiskit_algorithms.optimizers import SLSQP\n",
    "from qiskit_nature.second_q.circuit.library import HartreeFock, UCCSD\n",
    "\n",
    "\n",
    "ansatz = UCCSD(\n",
    "    es_problem.num_spatial_orbitals,\n",
    "    es_problem.num_particles,\n",
    "    mapper,\n",
    "    initial_state=HartreeFock(\n",
    "        es_problem.num_spatial_orbitals,\n",
    "        es_problem.num_particles,\n",
    "        mapper,\n",
    "    ),\n",
    ")\n",
    "\n",
    "vqe_solver = VQE(StatevectorEstimator(), ansatz, SLSQP())\n",
    "vqe_solver.initial_point = [0.0] * ansatz.num_parameters"
   ]
  },
  {
   "cell_type": "code",
   "execution_count": 6,
   "id": "bd918b30",
   "metadata": {},
   "outputs": [],
   "source": [
    "from qiskit_nature.second_q.algorithms import GroundStateEigensolver\n",
    "\n",
    "calc = GroundStateEigensolver(mapper, vqe_solver)"
   ]
  },
  {
   "cell_type": "code",
   "execution_count": 7,
   "id": "a56526ca",
   "metadata": {},
   "outputs": [
    {
     "name": "stdout",
     "output_type": "stream",
     "text": [
      "=== GROUND STATE ENERGY ===\n",
      " \n",
      "* Electronic ground state energy (Hartree): -67.5260986928\n",
      "  - computed part:      -5.350422342809\n",
      "  - ActiveSpaceTransformer extracted energy part: -62.175676349991\n",
      "~ Nuclear repulsion energy (Hartree): 12.068827248365\n",
      "> Total ground state energy (Hartree): -55.457271444435\n",
      " \n",
      "=== MEASURED OBSERVABLES ===\n",
      " \n",
      "  0:  # Particles: 4.000 S: 0.000 S^2: 0.000 M: 0.000\n",
      " \n",
      "=== DIPOLE MOMENTS ===\n",
      " \n",
      "~ Nuclear dipole moment (a.u.): [0.0  0.0  0.00018897]\n",
      " \n",
      "  0: \n",
      "  * Electronic dipole moment (a.u.): [0.000002859533  -0.009507457521  0.69244061982]\n",
      "    - computed part:      [0.000002859465  0.798431226453  0.859346462633]\n",
      "    - ActiveSpaceTransformer extracted energy part: [0.000000000067  -0.807938683975  -0.166905842812]\n",
      "  > Dipole moment (a.u.): [-0.000002859533  0.009507457521  -0.69225164982]  Total: 0.692316934963\n",
      "                 (debye): [-0.000007268206  0.024165544322  -1.759528021873]  Total: 1.759693960136\n",
      " \n"
     ]
    }
   ],
   "source": [
    "res = calc.solve(es_problem)\n",
    "print(res)"
   ]
  }
 ],
 "metadata": {
  "kernelspec": {
   "display_name": "vqe",
   "language": "python",
   "name": "python3"
  },
  "language_info": {
   "codemirror_mode": {
    "name": "ipython",
    "version": 3
   },
   "file_extension": ".py",
   "mimetype": "text/x-python",
   "name": "python",
   "nbconvert_exporter": "python",
   "pygments_lexer": "ipython3",
   "version": "3.11.13"
  }
 },
 "nbformat": 4,
 "nbformat_minor": 5
}
