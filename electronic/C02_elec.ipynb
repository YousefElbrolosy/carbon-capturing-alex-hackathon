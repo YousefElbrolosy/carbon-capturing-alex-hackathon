{
 "cells": [
  {
   "cell_type": "markdown",
   "id": "533c3a67",
   "metadata": {},
   "source": [
    "# Carbon Capture"
   ]
  },
  {
   "cell_type": "markdown",
   "id": "a7235844",
   "metadata": {},
   "source": [
    "## Chemical Reaction ( Part 1 Carbamic Acid )\n",
    "\n",
    "$$NH_3 + CO_2 \\rightarrow NH_{2}COOH$$"
   ]
  },
  {
   "cell_type": "markdown",
   "id": "891a59cc",
   "metadata": {},
   "source": [
    "first of all we want to model the vibrational ground state enegies of the reactants using VQE"
   ]
  },
  {
   "cell_type": "code",
   "execution_count": 8,
   "id": "e1ac83c8",
   "metadata": {},
   "outputs": [],
   "source": [
    "from qiskit_nature.units import DistanceUnit\n",
    "from qiskit_nature.second_q.drivers import PySCFDriver\n",
    "\n",
    "driver = PySCFDriver(\n",
    "    atom=\"C 0 0 0; O 0 0 1.162000; O 0 0 -1.162000\",\n",
    "    basis=\"sto3g\",\n",
    "    charge=0,\n",
    "    spin=0,\n",
    "    unit=DistanceUnit.ANGSTROM,\n",
    ")\n",
    "\n",
    "es_problem = driver.run()"
   ]
  },
  {
   "cell_type": "code",
   "execution_count": 9,
   "id": "66b2d19e",
   "metadata": {},
   "outputs": [],
   "source": [
    "from qiskit_nature.second_q.transformers import ActiveSpaceTransformer\n",
    "\n",
    "transformer = ActiveSpaceTransformer(\n",
    "    num_electrons=4,\n",
    "    num_spatial_orbitals=4\n",
    ")\n",
    "es_problem = transformer.transform(es_problem)"
   ]
  },
  {
   "cell_type": "code",
   "execution_count": 10,
   "id": "c0c91c5d",
   "metadata": {},
   "outputs": [],
   "source": [
    "from qiskit_nature.second_q.mappers import JordanWignerMapper\n",
    "\n",
    "mapper = JordanWignerMapper()"
   ]
  },
  {
   "cell_type": "code",
   "execution_count": 11,
   "id": "bdd21da5",
   "metadata": {},
   "outputs": [],
   "source": [
    "from qiskit_algorithms import NumPyMinimumEigensolver\n",
    "\n",
    "numpy_solver = NumPyMinimumEigensolver()"
   ]
  },
  {
   "cell_type": "code",
   "execution_count": 12,
   "id": "93e3f899",
   "metadata": {},
   "outputs": [],
   "source": [
    "from qiskit_algorithms import VQE\n",
    "from qiskit.primitives import StatevectorEstimator\n",
    "from qiskit_algorithms.optimizers import SLSQP\n",
    "from qiskit_nature.second_q.circuit.library import HartreeFock, UCCSD\n",
    "\n",
    "\n",
    "ansatz = UCCSD(\n",
    "    es_problem.num_spatial_orbitals,\n",
    "    es_problem.num_particles,\n",
    "    mapper,\n",
    "    initial_state=HartreeFock(\n",
    "        es_problem.num_spatial_orbitals,\n",
    "        es_problem.num_particles,\n",
    "        mapper,\n",
    "    ),\n",
    ")\n",
    "\n",
    "vqe_solver = VQE(StatevectorEstimator(), ansatz, SLSQP())\n",
    "vqe_solver.initial_point = [0.0] * ansatz.num_parameters"
   ]
  },
  {
   "cell_type": "code",
   "execution_count": 13,
   "id": "bd918b30",
   "metadata": {},
   "outputs": [],
   "source": [
    "from qiskit_nature.second_q.algorithms import GroundStateEigensolver\n",
    "\n",
    "calc = GroundStateEigensolver(mapper, vqe_solver)"
   ]
  },
  {
   "cell_type": "code",
   "execution_count": 14,
   "id": "a56526ca",
   "metadata": {},
   "outputs": [
    {
     "name": "stdout",
     "output_type": "stream",
     "text": [
      "=== GROUND STATE ENERGY ===\n",
      " \n",
      "* Electronic ground state energy (Hartree): -243.429079135905\n",
      "  - computed part:      -4.71969517959\n",
      "  - ActiveSpaceTransformer extracted energy part: -238.709383956314\n",
      "~ Nuclear repulsion energy (Hartree): 58.291465574664\n",
      "> Total ground state energy (Hartree): -185.13761356124\n",
      " \n",
      "=== MEASURED OBSERVABLES ===\n",
      " \n",
      "  0:  # Particles: 4.000 S: 0.000 S^2: 0.000 M: 0.000\n",
      " \n",
      "=== DIPOLE MOMENTS ===\n",
      " \n",
      "~ Nuclear dipole moment (a.u.): [0.0  0.0  0.0]\n",
      " \n",
      "  0: \n",
      "  * Electronic dipole moment (a.u.): [0.0  0.0  -0.000002326193]\n",
      "    - computed part:      [0.0  0.0  -0.000002326194]\n",
      "    - ActiveSpaceTransformer extracted energy part: [0.0  0.0  0.000000000001]\n",
      "  > Dipole moment (a.u.): [0.0  0.0  0.000002326193]  Total: 0.000002326193\n",
      "                 (debye): [0.0  0.0  0.000005912592]  Total: 0.000005912592\n",
      " \n"
     ]
    }
   ],
   "source": [
    "res = calc.solve(es_problem)\n",
    "print(res)"
   ]
  },
  {
   "cell_type": "code",
   "execution_count": null,
   "id": "a7a5d34f",
   "metadata": {},
   "outputs": [],
   "source": []
  }
 ],
 "metadata": {
  "kernelspec": {
   "display_name": "vqe",
   "language": "python",
   "name": "python3"
  },
  "language_info": {
   "codemirror_mode": {
    "name": "ipython",
    "version": 3
   },
   "file_extension": ".py",
   "mimetype": "text/x-python",
   "name": "python",
   "nbconvert_exporter": "python",
   "pygments_lexer": "ipython3",
   "version": "3.11.13"
  }
 },
 "nbformat": 4,
 "nbformat_minor": 5
}
